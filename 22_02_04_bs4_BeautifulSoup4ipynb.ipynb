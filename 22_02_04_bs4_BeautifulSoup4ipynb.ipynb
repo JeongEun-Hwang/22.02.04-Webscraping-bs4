{
  "nbformat": 4,
  "nbformat_minor": 0,
  "metadata": {
    "colab": {
      "name": "22.02.04 bs4/BeautifulSoup4ipynb",
      "provenance": [],
      "collapsed_sections": []
    },
    "kernelspec": {
      "name": "python3",
      "display_name": "Python 3"
    },
    "language_info": {
      "name": "python"
    }
  },
  "cells": [
    {
      "cell_type": "code",
      "execution_count": 1,
      "metadata": {
        "colab": {
          "base_uri": "https://localhost:8080/"
        },
        "id": "3n5QEUX89LtU",
        "outputId": "56cba5b6-c5f4-4238-daad-f81a6d4d4c0a"
      },
      "outputs": [
        {
          "output_type": "stream",
          "name": "stdout",
          "text": [
            "Requirement already satisfied: beautifulsoup4 in /usr/local/lib/python3.7/dist-packages (4.6.3)\n",
            "Requirement already satisfied: lxml in /usr/local/lib/python3.7/dist-packages (4.2.6)\n"
          ]
        }
      ],
      "source": [
        "!pip install beautifulsoup4\n",
        "!pip install lxml"
      ]
    },
    {
      "cell_type": "code",
      "source": [
        "import requests\n",
        "from bs4 import BeautifulSoup"
      ],
      "metadata": {
        "id": "dAqtmszw9VJf"
      },
      "execution_count": 2,
      "outputs": []
    },
    {
      "cell_type": "code",
      "source": [
        "url = 'https://comic.naver.com/webtoon/weekday'\n",
        "res = requests.get(url)\n",
        "res.raise_for_status()"
      ],
      "metadata": {
        "id": "VcNn715J-CaJ"
      },
      "execution_count": 4,
      "outputs": []
    },
    {
      "cell_type": "markdown",
      "source": [
        "    # Parser: html 파일을 다운로드후 어떻게 생겼는지 파해쳐 주는 것\n",
        "    # **requests(다운로드 받은것)와 BeautifulSoup(Paser)를 연결해 준다 "
      ],
      "metadata": {
        "id": "1aGSMDBeAc27"
      }
    },
    {
      "cell_type": "code",
      "source": [
        "# Tag 에 대한 정보를 가져온다.\n",
        "soup = BeautifulSoup(res.text,'lxml')\n",
        "\n",
        "soup.title\n"
      ],
      "metadata": {
        "colab": {
          "base_uri": "https://localhost:8080/"
        },
        "id": "c5dehXdS-Mdx",
        "outputId": "45e3e180-2331-4a57-e183-02a8c4d38eb3"
      },
      "execution_count": 5,
      "outputs": [
        {
          "output_type": "execute_result",
          "data": {
            "text/plain": [
              "<title>네이버 만화 &gt; 요일별  웹툰 &gt; 전체웹툰</title>"
            ]
          },
          "metadata": {},
          "execution_count": 5
        }
      ]
    },
    {
      "cell_type": "code",
      "source": [
        "# Tag 만 삭제\n",
        "soup.title.get_text()"
      ],
      "metadata": {
        "colab": {
          "base_uri": "https://localhost:8080/",
          "height": 35
        },
        "id": "IYKI--YuAvIw",
        "outputId": "4232bf90-a9f1-4f40-dad3-a1a84638ee36"
      },
      "execution_count": 6,
      "outputs": [
        {
          "output_type": "execute_result",
          "data": {
            "application/vnd.google.colaboratory.intrinsic+json": {
              "type": "string"
            },
            "text/plain": [
              "'네이버 만화 > 요일별  웹툰 > 전체웹툰'"
            ]
          },
          "metadata": {},
          "execution_count": 6
        }
      ]
    },
    {
      "cell_type": "code",
      "source": [
        "soup.a"
      ],
      "metadata": {
        "colab": {
          "base_uri": "https://localhost:8080/"
        },
        "id": "rt7S-xRiBKJm",
        "outputId": "801c17c9-9fe9-4c48-8012-697ef16cec4b"
      },
      "execution_count": 15,
      "outputs": [
        {
          "output_type": "execute_result",
          "data": {
            "text/plain": [
              "<a href=\"#menu\" onclick=\"document.getElementById('menu').tabIndex=-1;document.getElementById('menu').focus();return false;\"><span>메인 메뉴로 바로가기</span></a>"
            ]
          },
          "metadata": {},
          "execution_count": 15
        }
      ]
    },
    {
      "cell_type": "code",
      "source": [
        "#soup 속성, 속성값 찾기\n",
        "# 결과 :딕셔너리 값으로 출력\n",
        "soup.a.attrs"
      ],
      "metadata": {
        "colab": {
          "base_uri": "https://localhost:8080/"
        },
        "id": "T3_sb0bACnev",
        "outputId": "c8488bc3-d2c4-4624-bca5-1aada036dee3"
      },
      "execution_count": 46,
      "outputs": [
        {
          "output_type": "execute_result",
          "data": {
            "text/plain": [
              "{'href': '#menu',\n",
              " 'onclick': \"document.getElementById('menu').tabIndex=-1;document.getElementById('menu').focus();return false;\"}"
            ]
          },
          "metadata": {},
          "execution_count": 46
        }
      ]
    },
    {
      "cell_type": "markdown",
      "source": [
        "    **    # 키값을 사용해서 href의 요소를 추출한다.**"
      ],
      "metadata": {
        "id": "_F_5gzWDRsjH"
      }
    },
    {
      "cell_type": "code",
      "source": [
        " \n",
        "soup.a['href']"
      ],
      "metadata": {
        "colab": {
          "base_uri": "https://localhost:8080/",
          "height": 35
        },
        "id": "Cw_Wk5vdC7_0",
        "outputId": "481a019c-e057-4ff4-e76a-6759d0646aee"
      },
      "execution_count": 12,
      "outputs": [
        {
          "output_type": "execute_result",
          "data": {
            "application/vnd.google.colaboratory.intrinsic+json": {
              "type": "string"
            },
            "text/plain": [
              "'#menu'"
            ]
          },
          "metadata": {},
          "execution_count": 12
        }
      ]
    },
    {
      "cell_type": "code",
      "source": [
        "type(soup.a)"
      ],
      "metadata": {
        "colab": {
          "base_uri": "https://localhost:8080/"
        },
        "id": "kKvXW53MD7JW",
        "outputId": "8bd43e2b-2e6a-45b8-e8a1-6f000115d93d"
      },
      "execution_count": 25,
      "outputs": [
        {
          "output_type": "execute_result",
          "data": {
            "text/plain": [
              "bs4.element.Tag"
            ]
          },
          "metadata": {},
          "execution_count": 25
        }
      ]
    },
    {
      "cell_type": "markdown",
      "source": [
        "    # soup이라는 변수로 requset해서 받은 "
      ],
      "metadata": {
        "id": "sZyphG3AR0NK"
      }
    },
    {
      "cell_type": "code",
      "source": [
        "\n",
        "soup.find('a',attrs={'class':'Nbtn_upload'})"
      ],
      "metadata": {
        "colab": {
          "base_uri": "https://localhost:8080/"
        },
        "id": "NB3uTvnVJdDo",
        "outputId": "ba0eac65-fbb0-4982-e792-3ac83e1bf438"
      },
      "execution_count": 32,
      "outputs": [
        {
          "output_type": "execute_result",
          "data": {
            "text/plain": [
              "<a class=\"Nbtn_upload\" href=\"/mypage/myActivity\" onclick=\"nclk_v2(event,'olk.upload');\">웹툰 올리기</a>"
            ]
          },
          "metadata": {},
          "execution_count": 32
        }
      ]
    },
    {
      "cell_type": "code",
      "source": [
        "soup.find(attrs={'class':'Nbtn_upload'})"
      ],
      "metadata": {
        "colab": {
          "base_uri": "https://localhost:8080/"
        },
        "id": "DFaSDa2KMRRO",
        "outputId": "cb6d6827-dfae-49f6-fb3e-eb00b358ca61"
      },
      "execution_count": 33,
      "outputs": [
        {
          "output_type": "execute_result",
          "data": {
            "text/plain": [
              "<a class=\"Nbtn_upload\" href=\"/mypage/myActivity\" onclick=\"nclk_v2(event,'olk.upload');\">웹툰 올리기</a>"
            ]
          },
          "metadata": {},
          "execution_count": 33
        }
      ]
    },
    {
      "cell_type": "markdown",
      "source": [
        "    # def find(name=None, attrs={}, recursive=True, text=None, **kwargs)\n",
        "    # 네이버 웹툰의 인기 급상승 웹툰 01 위 <li class=\"rank01\">\t"
      ],
      "metadata": {
        "id": "wrcT_mtER3Fu"
      }
    },
    {
      "cell_type": "code",
      "source": [
        "soup.find('li', attrs = {'class' : 'rank01'})"
      ],
      "metadata": {
        "colab": {
          "base_uri": "https://localhost:8080/"
        },
        "id": "8SHZkspsKfiy",
        "outputId": "12d68391-5125-48f9-f112-50e9f26d6a57"
      },
      "execution_count": 34,
      "outputs": [
        {
          "output_type": "execute_result",
          "data": {
            "text/plain": [
              "<li class=\"rank01\">\n",
              "<a href=\"/webtoon/detail?titleId=641253&amp;no=377\" onclick=\"nclk_v2(event,'rnk*p.cont','641253','1')\" title=\"외모지상주의-377화 일해회 (2계열사) [06]\">외모지상주의-377화 일해회 (2계열사) [06]</a>\n",
              "<span class=\"rankBox\">\n",
              "<img alt=\"변동없음\" height=\"10\" src=\"https://ssl.pstatic.net/static/comic/images/migration/common/arrow_no.gif\" title=\"변동없음\" width=\"7\"/> 0\n",
              "\t\t\t\t\t\t\n",
              "\t\t\t\t\t\n",
              "\t\t\t\t</span>\n",
              "</li>"
            ]
          },
          "metadata": {},
          "execution_count": 34
        }
      ]
    },
    {
      "cell_type": "markdown",
      "source": [
        "    # 네이버 웹툰의 인기 급상승 웹툰 01 위 <li class=\"rank01\">\t"
      ],
      "metadata": {
        "id": "PGzgyIeYR7uy"
      }
    },
    {
      "cell_type": "code",
      "source": [
        "\n",
        "rank1 = soup.find('li', attrs = {'class' : 'rank01'})\n",
        "\n",
        "rank1.a.get_text()"
      ],
      "metadata": {
        "colab": {
          "base_uri": "https://localhost:8080/",
          "height": 35
        },
        "id": "3TOtYmFILYMm",
        "outputId": "eebd9157-0a8d-481f-dda3-6744e7417188"
      },
      "execution_count": 35,
      "outputs": [
        {
          "output_type": "execute_result",
          "data": {
            "application/vnd.google.colaboratory.intrinsic+json": {
              "type": "string"
            },
            "text/plain": [
              "'외모지상주의-377화 일해회 (2계열사) [06]'"
            ]
          },
          "metadata": {},
          "execution_count": 35
        }
      ]
    },
    {
      "cell_type": "markdown",
      "source": [
        "    rank1의 sibling 찾기\n",
        "    -.next_sibling 두번 해주는 이유 :  웹 사이트 마다 다 다르기 때문에 개발자 도구를 보고 작성한다. \n"
      ],
      "metadata": {
        "id": "RtsFUVcBR92O"
      }
    },
    {
      "cell_type": "code",
      "source": [
        "rank2 = rank1.next_sibling.next_sibling\n",
        "\n",
        "rank2.a.get_text()"
      ],
      "metadata": {
        "colab": {
          "base_uri": "https://localhost:8080/",
          "height": 35
        },
        "id": "85Gr1XNLMGay",
        "outputId": "483da09a-d0c4-45ee-c765-790c2cd0f952"
      },
      "execution_count": 37,
      "outputs": [
        {
          "output_type": "execute_result",
          "data": {
            "application/vnd.google.colaboratory.intrinsic+json": {
              "type": "string"
            },
            "text/plain": [
              "'나 혼자 만렙 뉴비-28화. 고인물이 성장하는 법(3)'"
            ]
          },
          "metadata": {},
          "execution_count": 37
        }
      ]
    },
    {
      "cell_type": "code",
      "source": [
        "rank3 = rank2.next_sibling.next_sibling\n",
        "\n",
        "rank3.a.get_text()"
      ],
      "metadata": {
        "colab": {
          "base_uri": "https://localhost:8080/",
          "height": 35
        },
        "outputId": "8cd17f0a-aafd-4647-82f3-3de83abb95d2",
        "id": "mxaD_-aWQmzt"
      },
      "execution_count": 38,
      "outputs": [
        {
          "output_type": "execute_result",
          "data": {
            "application/vnd.google.colaboratory.intrinsic+json": {
              "type": "string"
            },
            "text/plain": [
              "'재혼 황후-99화'"
            ]
          },
          "metadata": {},
          "execution_count": 38
        }
      ]
    },
    {
      "cell_type": "code",
      "source": [
        "# rank2의 형 \n",
        "rank2 = rank3.previous_sibling.previous_sibling\n",
        "\n",
        "rank2.a.get_text()"
      ],
      "metadata": {
        "colab": {
          "base_uri": "https://localhost:8080/",
          "height": 35
        },
        "id": "F1CexOlyQqms",
        "outputId": "b847b7ae-e9b9-4758-f50f-d988393e75b1"
      },
      "execution_count": 40,
      "outputs": [
        {
          "output_type": "execute_result",
          "data": {
            "application/vnd.google.colaboratory.intrinsic+json": {
              "type": "string"
            },
            "text/plain": [
              "'나 혼자 만렙 뉴비-28화. 고인물이 성장하는 법(3)'"
            ]
          },
          "metadata": {},
          "execution_count": 40
        }
      ]
    },
    {
      "cell_type": "code",
      "source": [
        "rank2.parent"
      ],
      "metadata": {
        "colab": {
          "base_uri": "https://localhost:8080/"
        },
        "id": "oM7vYtaAQ3kU",
        "outputId": "5f07b4d7-5c42-455e-a506-7b3c5787f023"
      },
      "execution_count": 42,
      "outputs": [
        {
          "output_type": "execute_result",
          "data": {
            "text/plain": [
              "<ol class=\"asideBoxRank\" id=\"realTimeRankFavorite\">\n",
              "<li class=\"rank01\">\n",
              "<a href=\"/webtoon/detail?titleId=641253&amp;no=377\" onclick=\"nclk_v2(event,'rnk*p.cont','641253','1')\" title=\"외모지상주의-377화 일해회 (2계열사) [06]\">외모지상주의-377화 일해회 (2계열사) [06]</a>\n",
              "<span class=\"rankBox\">\n",
              "<img alt=\"변동없음\" height=\"10\" src=\"https://ssl.pstatic.net/static/comic/images/migration/common/arrow_no.gif\" title=\"변동없음\" width=\"7\"/> 0\n",
              "\t\t\t\t\t\t\n",
              "\t\t\t\t\t\n",
              "\t\t\t\t</span>\n",
              "</li>\n",
              "<li class=\"rank02\">\n",
              "<a href=\"/webtoon/detail?titleId=773797&amp;no=29\" onclick=\"nclk_v2(event,'rnk*p.cont','773797','2')\" title=\"나 혼자 만렙 뉴비-28화. 고인물이 성장하는 법(3)\">나 혼자 만렙 뉴비-28화. 고인물이 성장하는 법(3)</a>\n",
              "<span class=\"rankBox\">\n",
              "<img alt=\"변동없음\" height=\"10\" src=\"https://ssl.pstatic.net/static/comic/images/migration/common/arrow_no.gif\" title=\"변동없음\" width=\"7\"/> 0\n",
              "\t\t\t\t\t\t\n",
              "\t\t\t\t\t\n",
              "\t\t\t\t</span>\n",
              "</li>\n",
              "<li class=\"rank03\">\n",
              "<a href=\"/webtoon/detail?titleId=735661&amp;no=102\" onclick=\"nclk_v2(event,'rnk*p.cont','735661','3')\" title=\"재혼 황후-99화\">재혼 황후-99화</a>\n",
              "<span class=\"rankBox\">\n",
              "<img alt=\"변동없음\" height=\"10\" src=\"https://ssl.pstatic.net/static/comic/images/migration/common/arrow_no.gif\" title=\"변동없음\" width=\"7\"/> 0\n",
              "\t\t\t\t\t\t\n",
              "\t\t\t\t\t\n",
              "\t\t\t\t</span>\n",
              "</li>\n",
              "<li class=\"rank04\">\n",
              "<a href=\"/webtoon/detail?titleId=772764&amp;no=38\" onclick=\"nclk_v2(event,'rnk*p.cont','772764','4')\" title=\"죽지 않으려면-38화\">죽지 않으려면-38화</a>\n",
              "<span class=\"rankBox\">\n",
              "<img alt=\"변동없음\" height=\"10\" src=\"https://ssl.pstatic.net/static/comic/images/migration/common/arrow_no.gif\" title=\"변동없음\" width=\"7\"/> 0\n",
              "\t\t\t\t\t\t\n",
              "\t\t\t\t\t\n",
              "\t\t\t\t</span>\n",
              "</li>\n",
              "<li class=\"rank05\">\n",
              "<a href=\"/webtoon/detail?titleId=318995&amp;no=535\" onclick=\"nclk_v2(event,'rnk*p.cont','318995','5')\" title=\"갓 오브 하이스쿨-531화\">갓 오브 하이스쿨-531화</a>\n",
              "<span class=\"rankBox\">\n",
              "<img alt=\"변동없음\" height=\"10\" src=\"https://ssl.pstatic.net/static/comic/images/migration/common/arrow_no.gif\" title=\"변동없음\" width=\"7\"/> 0\n",
              "\t\t\t\t\t\t\n",
              "\t\t\t\t\t\n",
              "\t\t\t\t</span>\n",
              "</li>\n",
              "<li class=\"rank06\">\n",
              "<a href=\"/webtoon/detail?titleId=725586&amp;no=152\" onclick=\"nclk_v2(event,'rnk*p.cont','725586','6')\" title=\"1초-151화 구조대 본시험 1주차 (5)\">1초-151화 구조대 본시험 1주차 (5)</a>\n",
              "<span class=\"rankBox\">\n",
              "<img alt=\"변동없음\" height=\"10\" src=\"https://ssl.pstatic.net/static/comic/images/migration/common/arrow_no.gif\" title=\"변동없음\" width=\"7\"/> 0\n",
              "\t\t\t\t\t\t\n",
              "\t\t\t\t\t\n",
              "\t\t\t\t</span>\n",
              "</li>\n",
              "<li class=\"rank07\">\n",
              "<a href=\"/webtoon/detail?titleId=776601&amp;no=29\" onclick=\"nclk_v2(event,'rnk*p.cont','776601','7')\" title=\"광마회귀-29화\">광마회귀-29화</a>\n",
              "<span class=\"rankBox\">\n",
              "<img alt=\"변동없음\" height=\"10\" src=\"https://ssl.pstatic.net/static/comic/images/migration/common/arrow_no.gif\" title=\"변동없음\" width=\"7\"/> 0\n",
              "\t\t\t\t\t\t\n",
              "\t\t\t\t\t\n",
              "\t\t\t\t</span>\n",
              "</li>\n",
              "<li class=\"rank08\">\n",
              "<a href=\"/webtoon/detail?titleId=712362&amp;no=156\" onclick=\"nclk_v2(event,'rnk*p.cont','712362','8')\" title=\"개를 낳았다-시즌2 82화\">개를 낳았다-시즌2 82화</a>\n",
              "<span class=\"rankBox\">\n",
              "<img alt=\"변동없음\" height=\"10\" src=\"https://ssl.pstatic.net/static/comic/images/migration/common/arrow_no.gif\" title=\"변동없음\" width=\"7\"/> 0\n",
              "\t\t\t\t\t\t\n",
              "\t\t\t\t\t\n",
              "\t\t\t\t</span>\n",
              "</li>\n",
              "<li class=\"rank09\">\n",
              "<a href=\"/webtoon/detail?titleId=781354&amp;no=18\" onclick=\"nclk_v2(event,'rnk*p.cont','781354','9')\" title=\"내과 박원장-18화. 열린 결말\">내과 박원장-18화. 열린 결말</a>\n",
              "<span class=\"rankBox\">\n",
              "<img alt=\"변동없음\" height=\"10\" src=\"https://ssl.pstatic.net/static/comic/images/migration/common/arrow_no.gif\" title=\"변동없음\" width=\"7\"/> 0\n",
              "\t\t\t\t\t\t\n",
              "\t\t\t\t\t\n",
              "\t\t\t\t</span>\n",
              "</li>\n",
              "<li class=\"rank10\">\n",
              "<a href=\"/webtoon/detail?titleId=773476&amp;no=35\" onclick=\"nclk_v2(event,'rnk*p.cont','773476','10')\" title=\"서울역 드루이드-35화\">서울역 드루이드-35화</a>\n",
              "<span class=\"rankBox\">\n",
              "<img alt=\"변동없음\" height=\"10\" src=\"https://ssl.pstatic.net/static/comic/images/migration/common/arrow_no.gif\" title=\"변동없음\" width=\"7\"/> 0\n",
              "\t\t\t\t\t\t\n",
              "\t\t\t\t\t\n",
              "\t\t\t\t</span>\n",
              "</li>\n",
              "</ol>"
            ]
          },
          "metadata": {},
          "execution_count": 42
        }
      ]
    },
    {
      "cell_type": "code",
      "source": [
        "rank3.a.get_text()"
      ],
      "metadata": {
        "colab": {
          "base_uri": "https://localhost:8080/",
          "height": 35
        },
        "id": "fMH0iSDSXZHz",
        "outputId": "13fb551e-e85d-4182-c8f0-76b7ef5f3b49"
      },
      "execution_count": 50,
      "outputs": [
        {
          "output_type": "execute_result",
          "data": {
            "application/vnd.google.colaboratory.intrinsic+json": {
              "type": "string"
            },
            "text/plain": [
              "'재혼 황후-99화'"
            ]
          },
          "metadata": {},
          "execution_count": 50
        }
      ]
    },
    {
      "cell_type": "code",
      "source": [
        "rank2 = rank3.find_previous_sibling('li')\n",
        "rank2.a.get_text()"
      ],
      "metadata": {
        "colab": {
          "base_uri": "https://localhost:8080/",
          "height": 35
        },
        "id": "tztb9zWZRPRh",
        "outputId": "d8f6acd7-93b8-40f4-d6a6-bf4690cc4c0a"
      },
      "execution_count": 49,
      "outputs": [
        {
          "output_type": "execute_result",
          "data": {
            "application/vnd.google.colaboratory.intrinsic+json": {
              "type": "string"
            },
            "text/plain": [
              "'나 혼자 만렙 뉴비-28화. 고인물이 성장하는 법(3)'"
            ]
          },
          "metadata": {},
          "execution_count": 49
        }
      ]
    },
    {
      "cell_type": "code",
      "source": [
        "rank1.find_next_sibling('li')"
      ],
      "metadata": {
        "colab": {
          "base_uri": "https://localhost:8080/"
        },
        "id": "JW-ADZwtXLI_",
        "outputId": "af569758-a8ab-414b-e671-7b99c7f23380"
      },
      "execution_count": 52,
      "outputs": [
        {
          "output_type": "execute_result",
          "data": {
            "text/plain": [
              "<li class=\"rank02\">\n",
              "<a href=\"/webtoon/detail?titleId=773797&amp;no=29\" onclick=\"nclk_v2(event,'rnk*p.cont','773797','2')\" title=\"나 혼자 만렙 뉴비-28화. 고인물이 성장하는 법(3)\">나 혼자 만렙 뉴비-28화. 고인물이 성장하는 법(3)</a>\n",
              "<span class=\"rankBox\">\n",
              "<img alt=\"변동없음\" height=\"10\" src=\"https://ssl.pstatic.net/static/comic/images/migration/common/arrow_no.gif\" title=\"변동없음\" width=\"7\"/> 0\n",
              "\t\t\t\t\t\t\n",
              "\t\t\t\t\t\n",
              "\t\t\t\t</span>\n",
              "</li>"
            ]
          },
          "metadata": {},
          "execution_count": 52
        }
      ]
    },
    {
      "cell_type": "code",
      "source": [
        ""
      ],
      "metadata": {
        "colab": {
          "base_uri": "https://localhost:8080/",
          "height": 35
        },
        "id": "T9651EfdXcI9",
        "outputId": "93514ef1-13cf-465c-9fce-1e3df9c426e2"
      },
      "execution_count": 53,
      "outputs": [
        {
          "output_type": "execute_result",
          "data": {
            "application/vnd.google.colaboratory.intrinsic+json": {
              "type": "string"
            },
            "text/plain": [
              "'나 혼자 만렙 뉴비-28화. 고인물이 성장하는 법(3)'"
            ]
          },
          "metadata": {},
          "execution_count": 53
        }
      ]
    },
    {
      "cell_type": "code",
      "source": [
        ""
      ],
      "metadata": {
        "id": "gblKkGVvXqEy"
      },
      "execution_count": null,
      "outputs": []
    }
  ]
}