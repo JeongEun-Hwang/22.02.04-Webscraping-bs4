{
  "nbformat": 4,
  "nbformat_minor": 0,
  "metadata": {
    "colab": {
      "name": "22.02.04 Web Scraping .ipynb",
      "provenance": [],
      "collapsed_sections": []
    },
    "kernelspec": {
      "name": "python3",
      "display_name": "Python 3"
    },
    "language_info": {
      "name": "python"
    }
  },
  "cells": [
    {
      "cell_type": "markdown",
      "source": [
        "    -Web Sc\n",
        "    1. web에 대한 이해 필요\n",
        "    2. 정규식에 대한 이해 필요"
      ],
      "metadata": {
        "id": "D58YDhH6IowR"
      }
    },
    {
      "cell_type": "markdown",
      "source": [
        "    1.web에 대한 이해\n",
        "    서버에서 받은 서비스를 화면에 보여주는 것 \n",
        "    \n",
        "    2. 웹 서비스에 필요한 3가지 \n",
        "    == html(뼈대),CSS(인테리어),Java script(상황에 맞춰 바꿔주는 것)\n",
        "\n",
        "    3. 웹이란?\n",
        "    - world wide web\n",
        "    - 세계의 컴퓨터를 연결하여 정보 공유\n",
        "\n",
        "    4. HTML5 개발 배경\n",
        "    - IE독점, 플러그링 양산, 보안 취약점\n",
        "    - 특징 : 다양한 기능이 추가 되는 중( 멀티미디어 재생, 서버 통신, 시멘틱 태그)\n",
        "\n",
        "    5. 웹표준이란?\n",
        "    - 모든 브라우저에서 웹서비스가 정상적으로 보여질 수 있도록 하는 것\n",
        "    "
      ],
      "metadata": {
        "id": "sGjO01bKJaVt"
      }
    },
    {
      "cell_type": "markdown",
      "source": [
        "    1. HTML 태그와 속성\n",
        "      - HTML문서는 태그로 만들어진다.\n",
        "      - html,head,body 태그\n",
        "      - 태그와 속성(앵커 태그내 있는것)\n",
        "        - 속성(Properties)\n",
        "        - 속성 값(Values)\n",
        "    2. 태이블 태그\n",
        "    3. 폼태그 : 사용자의 정보를 서버로 전달하기 위한 태그\n",
        "      - ** 인풋 태그\n",
        "      -데이터 전송 : GET: 페이지 다운로드 시 사용,POST : 페이지 업로드시 사용\n",
        "      \n",
        "  "
      ],
      "metadata": {
        "id": "brto9pvSM_AD"
      }
    },
    {
      "cell_type": "markdown",
      "source": [
        "    데이터\n",
        "    - 기록해 놓고 필요할 때 찾아서 보는 자료\n",
        "\n",
        "\n",
        "---\n",
        "    스크래핑/크롤링 차이 :\n",
        "      -스크래핑은 필요한 데이터만 추출하지만 크롤링은 필요 유무에 상관 없이 데이터를 추출한다. \n",
        "\n",
        "    스크래핑\n",
        "    -필요한 데이터만 추출\n",
        "    -데이터 크기(스케일) : 필요한 만큼\n",
        "    -중복제거 : 필요하다면(파서가 필요하다)\n",
        "    -필요 모듈 : agent &parser\n",
        "\n",
        "    크롤링\n",
        "    -필요 유무에 상관 없이 데이터 추출\n",
        "    -데이터 크기(스케일) : 대부분 크다\n",
        "    -중복제거: 필수\n",
        "    -필요 모듈(검색엔진) : agent\n",
        "  \n",
        "---\n",
        "    개발자 도구(툴) : Ctrl+Shift+I 또는 F12"
      ],
      "metadata": {
        "id": "2YDZlW1RWnd_"
      }
    },
    {
      "cell_type": "markdown",
      "source": [
        "    XPath\n",
        "    내가 원하는 정보를 트리구조에서 표현하기 위해 있는 것\n",
        "    - 사이트 접속후 F12 입력\n",
        "    - Xpath 가져오기\n",
        "      - 원하는 부분의 마우스 오른쪽 입력\n",
        "      - 해당 부분의 마우스 오른쪽 입력 -> 복사 -> Xpath 선택\n",
        "      -ex) 로그인 //*[@id=\"account\"]/a\n",
        "      -"
      ],
      "metadata": {
        "id": "AHB0YjBxasq2"
      }
    },
    {
      "cell_type": "code",
      "source": [
        "!pip install requests"
      ],
      "metadata": {
        "colab": {
          "base_uri": "https://localhost:8080/"
        },
        "id": "jLihNI5TasMN",
        "outputId": "bfa82f50-8a19-4358-b712-8a31e408a69a"
      },
      "execution_count": null,
      "outputs": [
        {
          "output_type": "stream",
          "name": "stdout",
          "text": [
            "Requirement already satisfied: requests in /usr/local/lib/python3.7/dist-packages (2.23.0)\n",
            "Requirement already satisfied: idna<3,>=2.5 in /usr/local/lib/python3.7/dist-packages (from requests) (2.10)\n",
            "Requirement already satisfied: chardet<4,>=3.0.2 in /usr/local/lib/python3.7/dist-packages (from requests) (3.0.4)\n",
            "Requirement already satisfied: urllib3!=1.25.0,!=1.25.1,<1.26,>=1.21.1 in /usr/local/lib/python3.7/dist-packages (from requests) (1.24.3)\n",
            "Requirement already satisfied: certifi>=2017.4.17 in /usr/local/lib/python3.7/dist-packages (from requests) (2021.10.8)\n"
          ]
        }
      ]
    },
    {
      "cell_type": "code",
      "execution_count": null,
      "metadata": {
        "id": "EGu8HIzgG_C-"
      },
      "outputs": [],
      "source": [
        "import requests"
      ]
    },
    {
      "cell_type": "code",
      "source": [
        "# requests get('url')\n",
        "# response 객체를 돌려준다 == 응답\n",
        "res = requests.get('http://www.naver.com')\n",
        "\n",
        "res.status_code      #응답 코드 : http 프로토콜에서 미리 정의한 상태 코드"
      ],
      "metadata": {
        "colab": {
          "base_uri": "https://localhost:8080/"
        },
        "id": "z5A0fJe1iICM",
        "outputId": "14011be3-29d7-4148-c7ef-980a6bfd05c4"
      },
      "execution_count": null,
      "outputs": [
        {
          "output_type": "execute_result",
          "data": {
            "text/plain": [
              "200"
            ]
          },
          "metadata": {},
          "execution_count": 5
        }
      ]
    },
    {
      "cell_type": "code",
      "source": [
        "res = requests.get('http://www.naver.com')\n",
        "\n",
        "# code 확인\n",
        "if res.status_code == requests.codes.ok:      #응답코드 200 출력할 경우\n",
        "  print('정상')\n",
        "else:\n",
        "  print('에러'+res.status_code)"
      ],
      "metadata": {
        "colab": {
          "base_uri": "https://localhost:8080/"
        },
        "id": "lZt451VVjI2b",
        "outputId": "5f5c172a-5d22-46ca-e6e4-71be2ae3c296"
      },
      "execution_count": null,
      "outputs": [
        {
          "output_type": "stream",
          "name": "stdout",
          "text": [
            "정상\n"
          ]
        }
      ]
    },
    {
      "cell_type": "code",
      "source": [
        "# exception 강제 발생 문법 : raise\n",
        "res = requests.get('http://www.google.com')\n",
        "res.raise_for_status()\n",
        "\n",
        "# print(res.txt)\n",
        "\n",
        "print(len(res.text))\n"
      ],
      "metadata": {
        "colab": {
          "base_uri": "https://localhost:8080/"
        },
        "id": "KigA3toxjpiH",
        "outputId": "cd23198b-9914-43cc-ffdc-b2764f6ad369"
      },
      "execution_count": null,
      "outputs": [
        {
          "output_type": "stream",
          "name": "stdout",
          "text": [
            "14169\n"
          ]
        }
      ]
    },
    {
      "cell_type": "code",
      "source": [
        "# 파일 저장\n",
        "with open('result.html','w',encoding = 'utf-8') as f :\n",
        "  f.write(res.text)\n"
      ],
      "metadata": {
        "id": "0TfE_0qPlvxv"
      },
      "execution_count": null,
      "outputs": []
    },
    {
      "cell_type": "markdown",
      "source": [
        "##request"
      ],
      "metadata": {
        "id": "x2Ulr8Cc81lE"
      }
    },
    {
      "cell_type": "code",
      "source": [
        "# User Agnet : 접속"
      ],
      "metadata": {
        "id": "1wFHAFN2miyG"
      },
      "execution_count": null,
      "outputs": []
    },
    {
      "cell_type": "code",
      "source": [
        "url ='http://naver,com'\n",
        "\n",
        "headers = [\n",
        "         'User-Agent': 'Mozilla/5.0 (Windows NT 10.0; Win64; x64) AppleWebKit/537.36 (KHTML, like Gecko) Chrome/96.0.4664.110 Whale/3.12.129.46 Safari/537.36' \n",
        "  ]\n",
        "\n",
        "res =requests.get(url,headers=headers)\n",
        "res.raise_for_status()\n",
        "\n",
        "with open('agent.html','w',encoding='utf-8') as f:\n",
        "  f.write(res.text)"
      ],
      "metadata": {
        "colab": {
          "base_uri": "https://localhost:8080/",
          "height": 154
        },
        "id": "2V6xYuxp6-Qw",
        "outputId": "dcbc4c0a-350c-4f24-855a-6bbec3cb95ba"
      },
      "execution_count": null,
      "outputs": [
        {
          "output_type": "error",
          "ename": "SyntaxError",
          "evalue": "ignored",
          "traceback": [
            "\u001b[0;36m  File \u001b[0;32m\"<ipython-input-17-625fd90f3edb>\"\u001b[0;36m, line \u001b[0;32m4\u001b[0m\n\u001b[0;31m    'User-Agent': 'Mozilla/5.0 (Windows NT 10.0; Win64; x64) AppleWebKit/537.36 (KHTML, like Gecko) Chrome/96.0.4664.110 Whale/3.12.129.46 Safari/537.36'\u001b[0m\n\u001b[0m                ^\u001b[0m\n\u001b[0;31mSyntaxError\u001b[0m\u001b[0;31m:\u001b[0m invalid syntax\n"
          ]
        }
      ]
    },
    {
      "cell_type": "code",
      "source": [
        ""
      ],
      "metadata": {
        "id": "dGIL4Fwj8e0x"
      },
      "execution_count": null,
      "outputs": []
    }
  ]
}